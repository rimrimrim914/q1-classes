{
 "cells": [
  {
   "cell_type": "code",
   "execution_count": null,
   "metadata": {},
   "outputs": [
    {
     "name": "stdout",
     "output_type": "stream",
     "text": [
      "list is empty\n"
     ]
    }
   ],
   "source": [
    "task_1=['sleep', 'sehri','prayer','study','quran','iftari']\n",
    "empty_list=[]\n",
    "i=len(empty_list)\n",
    "if i<1:\n",
    "    print(\"list is empty\")\n",
    "routine=input(\"Enter your task here :\")\n",
    "if routine in task_1:\n",
    "    tasks=task_1.index(routine)\n",
    "    task_1.pop(tasks)\n",
    "    empty_list.append(routine)\n",
    "    print(f\"Your Remaining tasks are :, {task_1}\")\n",
    "    print(f\"Your completed task: {empty_list}\")\n",
    "else:\n",
    "    print(\"Your task is not in the list\")      "
   ]
  },
  {
   "cell_type": "code",
   "execution_count": 2,
   "metadata": {},
   "outputs": [
    {
     "name": "stdout",
     "output_type": "stream",
     "text": [
      "Enter your task here :study\n",
      "Your Remaining tasks are :, ['sleep', 'sehri', 'prayer', 'quran', 'iftari']\n",
      "Your completed task: ['study']\n"
     ]
    }
   ],
   "source": [
    "task_1=['sleep', 'sehri','prayer','study','quran','iftari']\n",
    "empty_list=[]\n",
    "routine=input(\"Enter your task here :\")\n",
    "if routine in task_1:\n",
    "    tasks=task_1.index(routine)\n",
    "    task_1.pop(tasks)\n",
    "    empty_list.append(routine)\n",
    "    print(f\"Your Remaining tasks are :, {task_1}\")\n",
    "    print(f\"Your completed task: {empty_list}\")\n",
    "else:\n",
    "    print(\"Your task is not in the list\")      "
   ]
  },
  {
   "cell_type": "code",
   "execution_count": 3,
   "metadata": {},
   "outputs": [
    {
     "name": "stdout",
     "output_type": "stream",
     "text": [
      "Enter your task here :breakfast\n",
      "Your task is not in the list\n"
     ]
    }
   ],
   "source": [
    "task_1=['sleep', 'sehri','prayer','study','quran','iftari']\n",
    "empty_list=[]\n",
    "routine=input(\"Enter your task here :\")\n",
    "if routine in task_1:\n",
    "    tasks=task_1.index(routine)\n",
    "    task_1.pop(tasks)\n",
    "    empty_list.append(routine)\n",
    "    print(f\"Your Remaining tasks are :, {task_1}\")\n",
    "    print(f\"Your completed task: {empty_list}\")\n",
    "else:\n",
    "    print(\"Your task is not in the list\")"
   ]
  },
  {
   "cell_type": "code",
   "execution_count": null,
   "metadata": {},
   "outputs": [],
   "source": []
  }
 ],
 "metadata": {
  "kernelspec": {
   "display_name": "Python 3",
   "language": "python",
   "name": "python3"
  },
  "language_info": {
   "codemirror_mode": {
    "name": "ipython",
    "version": 3
   },
   "file_extension": ".py",
   "mimetype": "text/x-python",
   "name": "python",
   "nbconvert_exporter": "python",
   "pygments_lexer": "ipython3",
   "version": "3.7.3"
  }
 },
 "nbformat": 4,
 "nbformat_minor": 2
}
