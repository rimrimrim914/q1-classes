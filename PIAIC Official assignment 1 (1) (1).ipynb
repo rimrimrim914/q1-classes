{
 "cells": [
  {
   "cell_type": "markdown",
   "metadata": {},
   "source": [
    "## 1. Calculate Area of a Circle"
   ]
  },
  {
   "cell_type": "markdown",
   "metadata": {},
   "source": [
    "#### Write a Python program which accepts the radius of a circle from the user and compute the area.\n",
    "###### Program Console Sample Output 1:\n",
    "###### Input Radius: 0.5\n",
    "###### Area of Circle with radius 0.5 is 0.7853981634"
   ]
  },
  {
   "cell_type": "code",
   "execution_count": 4,
   "metadata": {},
   "outputs": [
    {
     "name": "stdout",
     "output_type": "stream",
     "text": [
      "Please enter the radius of that circle which you want to find the area: 3.5\n",
      "The area of this circle is 38.4895.\n"
     ]
    }
   ],
   "source": [
    "Radius = float(input(\"Please enter the radius of that circle which you want to find the area: \"))\n",
    "Area = 3.142 *(Radius**2)\n",
    "print(f\"The area of this circle is {Area}.\")"
   ]
  },
  {
   "cell_type": "markdown",
   "metadata": {},
   "source": [
    "## 2. Check Number either positive, negative or zero"
   ]
  },
  {
   "cell_type": "markdown",
   "metadata": {},
   "source": [
    "#### Write a Python program to check if a number is positive, negative or zero\n",
    "###### Program Console Sample Output 1:\n",
    "###### Enter Number: -1\n",
    "##### Negative Number Entered\n",
    "###### Program Console Sample Output 2:\n",
    "##### Integer: 3\n",
    "##### Positive Number Entered\n",
    "###### Program Console Sample Output 3:\n",
    "##### Integer: 0\n",
    "###### Zero Entered"
   ]
  },
  {
   "cell_type": "code",
   "execution_count": 5,
   "metadata": {},
   "outputs": [
    {
     "name": "stdout",
     "output_type": "stream",
     "text": [
      "Please enter a number:0\n",
      "You were typed 0.\n"
     ]
    }
   ],
   "source": [
    "Seleted_number = float(input(\"Please enter a number:\"))\n",
    "if Seleted_number == 0:\n",
    "    print(\"You were typed 0.\")\n",
    "elif Seleted_number > 0:\n",
    "    print(\"You were typed a positive number.\")\n",
    "else:\n",
    "    print(\"You were typed a negative number.\")\n",
    "  "
   ]
  },
  {
   "cell_type": "markdown",
   "metadata": {},
   "source": [
    "# 3. Divisibility Check of two numbers"
   ]
  },
  {
   "cell_type": "markdown",
   "metadata": {},
   "source": [
    "#### Write a Python program to check whether a number is completely divisible by another number. Accept two integer values form the user\n",
    "##### Program Console Sample Output 1:\n",
    "###### Enter numerator: 4\n",
    "###### Enter Denominator: 2\n",
    "##### Number 4 is Completely divisible by 2\n",
    "###### Program Console Sample Output 2:\n",
    "##### Enter numerator: 7\n",
    "\n",
    "##### Enter Denominator: 4\n",
    "###### Number 7 is not Completely divisible by 4"
   ]
  },
  {
   "cell_type": "code",
   "execution_count": 7,
   "metadata": {},
   "outputs": [
    {
     "name": "stdout",
     "output_type": "stream",
     "text": [
      "Please enter the numerator: 5\n",
      "Please enter the Denominator: 2\n",
      "The number 5 is not completely divisible by the number 2.\n"
     ]
    }
   ],
   "source": [
    "Numerator = int(input(\"Please enter the numerator: \"))\n",
    "Denominator = int(input(\"Please enter the Denominator: \"))\n",
    "if Numerator % Denominator == 0:\n",
    "    print(f\"The number {Numerator} is completely divisible by the number {Denominator}.\")\n",
    "else:\n",
    "    print(f\"The number {Numerator} is not completely divisible by the number {Denominator}.\")"
   ]
  },
  {
   "cell_type": "markdown",
   "metadata": {},
   "source": [
    "## 4. Calculate Volume of a sphere"
   ]
  },
  {
   "cell_type": "markdown",
   "metadata": {},
   "source": [
    "##### Write a Python program to get the volume of a sphere, please take the radius as input from user"
   ]
  },
  {
   "cell_type": "markdown",
   "metadata": {},
   "source": [
    "##### Program Console Output:\n",
    "##### Enter Radius of Sphere: 1\n",
    "###### Volume of the Sphere with Radius 1 is 4.18"
   ]
  },
  {
   "cell_type": "code",
   "execution_count": 10,
   "metadata": {},
   "outputs": [
    {
     "name": "stdout",
     "output_type": "stream",
     "text": [
      "Please enter the radius of the sphere: 4\n",
      "The volume of sphere of radius 4 is 268.1173333333333.\n"
     ]
    }
   ],
   "source": [
    "Radius = int(input(\"Please enter the radius of the sphere: \"))\n",
    "Volume = (4/3) * (3.142) * (Radius**3)\n",
    "print(f\"The volume of sphere of radius {Radius} is {Volume}.\")"
   ]
  },
  {
   "cell_type": "markdown",
   "metadata": {},
   "source": [
    "## 5. Copy string n times\n",
    "#### Write a Python program to get a string which is n (non-negative integer) copies of a given string.\n",
    "##### Program Console Output:\n",
    "##### Enter String: Hi\n",
    "###### How many copies of String you need: 4\n",
    "###### 4 Copies of Hi are HiHiHiHi"
   ]
  },
  {
   "cell_type": "code",
   "execution_count": 28,
   "metadata": {},
   "outputs": [
    {
     "name": "stdout",
     "output_type": "stream",
     "text": [
      "Please enter the string: Hello\n",
      "How many copies of String you need?: 4\n",
      "4 Copies of Hello are HelloHelloHelloHello.\n"
     ]
    }
   ],
   "source": [
    "User_input_string = input(\"Please enter the string: \")\n",
    "No_of_copies = int(input(\"How many copies of String you need?: \"))\n",
    "print(f\"{No_of_copies} Copies of {User_input_string} are {User_input_string*No_of_copies}.\")\n"
   ]
  },
  {
   "cell_type": "markdown",
   "metadata": {},
   "source": [
    "##### 6. Check if number is Even or Odd\n",
    "### Write a Python program to find whether a given number (accept from the user) is even or odd, print out an appropriate message to the user\n",
    "#### Program Console Output 1:\n",
    "##### Enter Number: 4\n",
    "###### 4 is Even\n",
    "#### Program Console Output 2:\n",
    "##### Enter Number: 9\n",
    "###### 9 is Odd"
   ]
  },
  {
   "cell_type": "code",
   "execution_count": 13,
   "metadata": {},
   "outputs": [
    {
     "name": "stdout",
     "output_type": "stream",
     "text": [
      "Please enter the Number:7\n",
      "The number is odd\n"
     ]
    }
   ],
   "source": [
    "User_input_Number = int(input(\"Please enter the Number: \")) \n",
    "if (User_input_Number % 2) == 0:\n",
    "    print(\"The number is even.\")\n",
    "else:\n",
    "    print(\"The number is odd.\")"
   ]
  },
  {
   "cell_type": "markdown",
   "metadata": {},
   "source": [
    "## 7. Vowel Tester\n",
    "### Write a Python program to test whether a passed letter is a vowel or not\n",
    "#### Program Console Output 1:\n",
    "##### Enter a character: A\n",
    "###### Letter A is Vowel\n",
    "#### Program Console Output 2:\n",
    "##### Enter a character: e\n",
    "###### Letter e is Vowel\n",
    "#### Program Console Output 2:\n",
    "##### Enter a character: N\n",
    "###### Letter N is not Vowel"
   ]
  },
  {
   "cell_type": "code",
   "execution_count": 16,
   "metadata": {},
   "outputs": [
    {
     "name": "stdout",
     "output_type": "stream",
     "text": [
      "Please input a character:t\n",
      "t is not a vowel\n"
     ]
    }
   ],
   "source": [
    "char = input(\"Please input a character:\")\n",
    "if (char == \"A\") or (char == \"E\") or (char == \"I\") or (char == \"O\") or (char == \"U\") or (char == \"a\") or (char == \"e\") or (char == \"i\") or (char == \"o\") or (char == \"u\"):\n",
    "    print(f\"{char} is a vowel\")\n",
    "else:\n",
    "     print(f\"{char} is not a vowel\")"
   ]
  },
  {
   "cell_type": "markdown",
   "metadata": {},
   "source": [
    "## 8. Triangle area\n",
    "### Write a Python program that will accept the base and height of a triangle and compute the area\n",
    "###### Reference:\n",
    "https://www.mathgoodies.com/lessons/vol1/area_triangle"
   ]
  },
  {
   "cell_type": "code",
   "execution_count": 21,
   "metadata": {},
   "outputs": [
    {
     "name": "stdout",
     "output_type": "stream",
     "text": [
      "Please enter the height of the triangle: 6\n",
      "Please enter the base of the triangle: 8\n",
      "The area of the triangle with the height 6 and base 8 is 24.0.\n"
     ]
    }
   ],
   "source": [
    "Height = int(input(\"Please enter the height of the triangle: \"))\n",
    "Base =  int(input(\"Please enter the base of the triangle: \"))\n",
    "Area = (1/2) * Height * Base\n",
    "print(f\"The area of the triangle with the height {Height} and base {Base} is {Area}.\")"
   ]
  },
  {
   "cell_type": "markdown",
   "metadata": {},
   "source": [
    "## 9. Calculate Interest\n",
    "### Write a Python program to compute the future value of a specified principal amount, rate of interest, and a number of years\n",
    "#### Program Console Sample 1:\n",
    "##### Please enter principal amount: 10000\n",
    "###### Please Enter Rate of interest in %: 0.1\n",
    "###### Enter number of years for investment: 5\n",
    "###### After 5 years your principal amount 10000 over an interest rate of 0.1 % will be 16105.1"
   ]
  },
  {
   "cell_type": "code",
   "execution_count": 2,
   "metadata": {},
   "outputs": [
    {
     "name": "stdout",
     "output_type": "stream",
     "text": [
      "Please enter principle amount: 500000\n",
      "Please enter Interest_rate: 0.15\n",
      "Please enter number of years for investment: 10\n",
      "After 10 years your principal amount 500000 over an interest rate of 15.0 % will be 2022778.8678539533.\n"
     ]
    }
   ],
   "source": [
    "Principle_amount = int(input(\"Please enter principle amount: \"))\n",
    "Interest_rate = float(input(\"Please enter Interest_rate: \"))\n",
    "No_of_years = int(input(\"Please enter number of years for investment: \"))\n",
    "Future_value = Principle_amount*((1+Interest_rate)**No_of_years)\n",
    "print(f\"After {No_of_years} years your principal amount {Principle_amount} over an interest rate of {Interest_rate*100} % will be {Future_value}.\")"
   ]
  },
  {
   "cell_type": "markdown",
   "metadata": {},
   "source": [
    "## 10. Euclidean distance\n",
    "### write a Python program to compute the distance between the points (x1, y1) and (x2, y2).\n",
    "#### Program Console Sample 1:\n",
    "###### Enter Co-ordinate for x1: 2\n",
    "###### Enter Co-ordinate for x2: 4\n",
    "###### Enter Co-ordinate for y1: 4\n",
    "###### Enter Co-ordinate for y2: 4\n",
    "###### Distance between points (2, 4) and (4, 4) is 2"
   ]
  },
  {
   "cell_type": "markdown",
   "metadata": {},
   "source": [
    "###### Reference:\n",
    "https://en.wikipedia.org/wiki/Euclidean_distance"
   ]
  },
  {
   "cell_type": "code",
   "execution_count": 3,
   "metadata": {},
   "outputs": [
    {
     "name": "stdout",
     "output_type": "stream",
     "text": [
      "Please enter Co-ordinate for x1: 1\n",
      "Please enter Co-ordinate for y1: 2\n",
      "Please enter Co-ordinate for x2: 3\n",
      "Please enter Co-ordinate for y2: 4\n",
      "Distance between points (1, 2) and (3, 4) is 2.8284271247461903\n"
     ]
    }
   ],
   "source": [
    "X1 = int(input(\"Please enter Co-ordinate for x1: \"))\n",
    "Y1 = int(input(\"Please enter Co-ordinate for y1: \"))\n",
    "X2 = int(input(\"Please enter Co-ordinate for x2: \"))\n",
    "Y2 = int(input(\"Please enter Co-ordinate for y2: \"))\n",
    "Distance = (((Y2 - Y1)**2) + ((X2 -X1)**2))**0.5\n",
    "print(f\"Distance between points ({X1}, {Y1}) and ({X2}, {Y2}) is {Distance}\")"
   ]
  },
  {
   "cell_type": "markdown",
   "metadata": {},
   "source": [
    "## 11. Feet to Centimeter Converter\n",
    "### Write a Python program to convert height in feet to centimetres.\n",
    "##### Program Console Sample 1:\n",
    "###### Enter Height in Feet: 5\n",
    "###### There are 152.4 Cm in 5 ft\n",
    "###### Reference:\n",
    "https://www.rapidtables.com/convert/length/feet-to-cm.html"
   ]
  },
  {
   "cell_type": "code",
   "execution_count": 5,
   "metadata": {},
   "outputs": [
    {
     "name": "stdout",
     "output_type": "stream",
     "text": [
      "Please enter the height in Feet: 10\n",
      "There are 304.8 Cm in 10 ft.\n"
     ]
    }
   ],
   "source": [
    "Height_in_feet = float(input(\"Please enter the height in Feet: \"))\n",
    "Height_in_CM = Height_in_feet * 30.48 \n",
    "print(f\"There are {Height_in_CM} Cm in {int(Height_in_feet)} ft.\")"
   ]
  },
  {
   "cell_type": "markdown",
   "metadata": {},
   "source": [
    "## 12. BMI Calculator\n",
    "### Write a Python program to calculate body mass index\n",
    "##### Program Console Sample 1:\n",
    "###### Enter Height in Cm: 180\n",
    "###### Enter Weight in Kg: 75\n",
    "###### Your BMI is 23.15"
   ]
  },
  {
   "cell_type": "code",
   "execution_count": 10,
   "metadata": {},
   "outputs": [
    {
     "name": "stdout",
     "output_type": "stream",
     "text": [
      "Enter Height in Cm: 180\n",
      "Enter Weight in Kg: 75\n",
      "Your BMI is 23.148148148148145\n"
     ]
    }
   ],
   "source": [
    "Height = int(input(\"Enter Height in Cm: \"))\n",
    "Weight = int(input(\"Enter Weight in Kg: \"))\n",
    "BMI = (Weight / (Height*0.01)**2) \n",
    "print(F\"Your BMI is {BMI}\")"
   ]
  },
  {
   "cell_type": "markdown",
   "metadata": {},
   "source": [
    "## 13. Sum of n Positive Integers\n",
    "### Write a python program to sum of the first n positive integers\n",
    "#### Program Console Sample 1:\n",
    "###### Enter value of n: 5\n",
    "###### Sum of n Positive integers till 5 is 15"
   ]
  },
  {
   "cell_type": "code",
   "execution_count": 3,
   "metadata": {},
   "outputs": [
    {
     "name": "stdout",
     "output_type": "stream",
     "text": [
      "Enter value of n: 4\n",
      "Sum of n Positive integers till 4 is 10\n"
     ]
    }
   ],
   "source": [
    "Adding_value = 0 \n",
    "Value = int(input(\"Enter value of n: \"))\n",
    "result = (Value*(Value+1))/2\n",
    "print(f\"Sum of n Positive integers till {Value} is {int(result)}\")"
   ]
  },
  {
   "cell_type": "markdown",
   "metadata": {},
   "source": [
    "## 14. Digits Sum of a Number\n",
    "### Write a Python program to calculate the sum of the digits in an integer\n",
    "#### Program Console Sample 1:\n",
    "##### Enter a number: 15\n",
    "###### Sum of 1 + 5 is 6\n",
    "#### Program Console Sample 2:\n",
    "##### Enter a number: 1234\n",
    "###### Sum of 1 + 2 + 3 + 4 is 10"
   ]
  },
  {
   "cell_type": "code",
   "execution_count": 30,
   "metadata": {},
   "outputs": [
    {
     "name": "stdout",
     "output_type": "stream",
     "text": [
      "Please input a number:12345\n",
      "The sum of 1 + 2 + 3 + 4 + 5 is 15\n"
     ]
    }
   ],
   "source": [
    "Number = input(\"Please input a number:\")\n",
    "n = len(Number)\n",
    "Number = int(Number)\n",
    "if   n == 1:\n",
    "    first_digit = Number\n",
    "    print(f\"The sum of {first_digit} is {first_digit}\")\n",
    "elif n ==2:\n",
    "    first_digit = Number //10\n",
    "    second_digit = Number - first_digit*10\n",
    "    sum = first_digit + second_digit\n",
    "    print(f\"The sum of {first_digit} + {second_digit} is {sum}\")\n",
    "elif n ==3:\n",
    "    first_digit = Number //100\n",
    "    second_digit = (Number - first_digit*100)//10\n",
    "    third_digit = Number - first_digit*100 - second_digit*10\n",
    "    sum = first_digit + second_digit + third_digit\n",
    "    print(f\"The sum of {first_digit} + {second_digit} + {third_digit} is {sum}\")\n",
    "elif n == 4:\n",
    "    first_digit = Number //1000\n",
    "    second_digit = (Number - first_digit*1000)//100\n",
    "    third_digit = (Number - first_digit*1000 - second_digit*100)//10\n",
    "    forth_digit = (Number - first_digit*1000 - second_digit*100 - third_digit*10)\n",
    "    sum = first_digit + second_digit + third_digit +  forth_digit\n",
    "    print(f\"The sum of {first_digit} + {second_digit} + {third_digit} + {forth_digit} is {sum}\")\n",
    "elif n ==5:\n",
    "    first_digit = Number //10000\n",
    "    second_digit = (Number - first_digit*10000)//1000\n",
    "    third_digit = (Number - first_digit*10000 - second_digit*1000)//100\n",
    "    forth_digit = (Number - first_digit*10000 - second_digit*1000 - third_digit*100)//10\n",
    "    fifth_digit = (Number - first_digit*10000 - second_digit*1000 - third_digit*100 - forth_digit*10 )\n",
    "    sum = first_digit + second_digit + third_digit +  forth_digit + fifth_digit\n",
    "    print(f\"The sum of {first_digit} + {second_digit} + {third_digit} + {forth_digit} + {fifth_digit} is {sum}\")\n",
    "else:\n",
    "    print(\"Sorry! This program just made for five digit number\")\n",
    "\n"
   ]
  }
 ],
 "metadata": {
  "kernelspec": {
   "display_name": "Python 3",
   "language": "python",
   "name": "python3"
  }
 },
 "nbformat": 4,
 "nbformat_minor": 2
}
