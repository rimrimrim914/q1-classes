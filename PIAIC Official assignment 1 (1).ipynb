{
 "cells": [
  {
   "cell_type": "markdown",
   "metadata": {},
   "source": [
    " Calculate Area of a Circle"
   ]
  },
  {
   "cell_type": "code",
   "execution_count": 1,
   "metadata": {},
   "outputs": [
    {
     "name": "stdout",
     "output_type": "stream",
     "text": [
      "Input Radius:0.5\n",
      "Area of circle with radius 0.5 is 0.78675\n"
     ]
    }
   ],
   "source": [
    "radius=float(input(\"Input Radius:\"))\n",
    "pi=3.147\n",
    "volume=pi*(radius)**2\n",
    "print(\"Area of circle with radius\",radius,\"is\",volume)"
   ]
  },
  {
   "cell_type": "markdown",
   "metadata": {},
   "source": [
    "Check Number either positive ,negative or zero"
   ]
  },
  {
   "cell_type": "code",
   "execution_count": 21,
   "metadata": {},
   "outputs": [
    {
     "name": "stdout",
     "output_type": "stream",
     "text": [
      "Enter a number : -8\n",
      "Negative number entered\n"
     ]
    }
   ],
   "source": [
    "n= int(input(\"Enter a number : \"))\n",
    "if(n>0):\n",
    "    print(\"Positive number entered\")\n",
    "if(n<0):\n",
    "    print(\"Negative number entered\")\n",
    "if(n==0):\n",
    "    print(\"Zero entered\")"
   ]
  },
  {
   "cell_type": "markdown",
   "metadata": {},
   "source": [
    "Divisibility check of two Numbers"
   ]
  },
  {
   "cell_type": "code",
   "execution_count": null,
   "metadata": {},
   "outputs": [
    {
     "name": "stdout",
     "output_type": "stream",
     "text": [
      "Enter numerator : 4\n",
      "Enter denomenator : 7\n",
      "Number  4  is not completely divisible by  7\n"
     ]
    }
   ],
   "source": [
    "numerator= int(input(\"Enter numerator : \"))\n",
    "\n",
    "denomenator= int(input(\"Enter denomenator : \"))\n",
    "\n",
    "if(numerator%denomenator==0):\n",
    "\n",
    "    print(\"Number \",numerator,\" is completely divisible by \",denomenator)\n",
    "\n",
    "else:\n",
    "\n",
    "    print(\"Number \",numerator,\" is not completely divisible by \",denomenator)"
   ]
  },
  {
   "cell_type": "markdown",
   "metadata": {},
   "source": [
    "Calculate Volume of a Sphere"
   ]
  },
  {
   "cell_type": "code",
   "execution_count": 6,
   "metadata": {},
   "outputs": [
    {
     "name": "stdout",
     "output_type": "stream",
     "text": [
      "Enter the value of radius : 1\n",
      "volume of a sphere with radius 1.0 is:  4.196\n"
     ]
    }
   ],
   "source": [
    "radius= float(input(\"Enter the value of radius : \"))\n",
    "pi=3.147\n",
    "volume=(4/3)*pi*(radius)**3\n",
    "print(\"volume of a sphere with radius\",radius,\"is: \",volume)"
   ]
  },
  {
   "cell_type": "markdown",
   "metadata": {},
   "source": [
    "Copy String n times"
   ]
  },
  {
   "cell_type": "code",
   "execution_count": 8,
   "metadata": {},
   "outputs": [
    {
     "name": "stdout",
     "output_type": "stream",
     "text": [
      "Enter String : HI\n",
      "How many copies of String you need : 4\n",
      "4 Copies of  HI are HIHIHIHI\n"
     ]
    }
   ],
   "source": [
    "string=input(\"Enter String : \")\n",
    "n= int(input(\"How many copies of String you need : \"))\n",
    "if(n>=0):\n",
    "    print(n,\"Copies of \",string,\"are\",string*n)\n",
    "else:\n",
    "    print(\"please enter non-negative copies of String\")"
   ]
  },
  {
   "cell_type": "markdown",
   "metadata": {},
   "source": [
    "Check if number is Even or Odd"
   ]
  },
  {
   "cell_type": "code",
   "execution_count": 9,
   "metadata": {},
   "outputs": [
    {
     "name": "stdout",
     "output_type": "stream",
     "text": [
      "Enter a number : 5\n",
      "5  is Odd\n"
     ]
    }
   ],
   "source": [
    "n= int(input(\"Enter a number : \"))\n",
    "if(n%2==0):\n",
    "    print(n,\" is Even\")\n",
    "else:\n",
    "    print(n,\" is Odd\")"
   ]
  },
  {
   "cell_type": "markdown",
   "metadata": {},
   "source": [
    "Vowel Tester "
   ]
  },
  {
   "cell_type": "code",
   "execution_count": 12,
   "metadata": {},
   "outputs": [
    {
     "name": "stdout",
     "output_type": "stream",
     "text": [
      "Enter an alphabet : a\n",
      "Letter a  is Vowel\n"
     ]
    }
   ],
   "source": [
    "alphabet = input(\"Enter an alphabet : \")\n",
    "if(alphabet=='a' or alphabet=='e' or alphabet=='i' or alphabet=='o' or alphabet=='u' or alphabet=='A' or alphabet=='E' or alphabet=='I' or alphabet=='O' or alphabet=='U'):\n",
    "    print(\"Letter\",alphabet,\" is Vowel\")\n",
    "else:\n",
    "    print(\"Letter\",alphabet,\" is not Vowel\")"
   ]
  },
  {
   "cell_type": "markdown",
   "metadata": {},
   "source": [
    "Triangle Area"
   ]
  },
  {
   "cell_type": "code",
   "execution_count": 13,
   "metadata": {},
   "outputs": [
    {
     "name": "stdout",
     "output_type": "stream",
     "text": [
      "Enter height(h) for computing area of triangle : 3\n",
      "Enter base(b) for computing area of triangle : 4\n",
      "The area of triangle is :  6.0\n"
     ]
    }
   ],
   "source": [
    "height=float(input(\"Enter height(h) for computing area of triangle : \"))\n",
    "base=float(input(\"Enter base(b) for computing area of triangle : \"))\n",
    "area=0.5*height*base\n",
    "print(\"The area of triangle is : \",area)"
   ]
  },
  {
   "cell_type": "markdown",
   "metadata": {},
   "source": [
    "Calculate Interest "
   ]
  },
  {
   "cell_type": "code",
   "execution_count": 15,
   "metadata": {},
   "outputs": [
    {
     "name": "stdout",
     "output_type": "stream",
     "text": [
      "Enter principal(p) for computing interest : 10000\n",
      "Enter rate(r) for computing interest : 0.1\n",
      "Enter number of years(t) for computing interest : 5\n",
      "After  5.0  years your principal amount  10000.0  over an interest rate of  0.1 % will be :  16105.1\n"
     ]
    }
   ],
   "source": [
    "principal=float(input(\"Enter principal(p) for computing interest : \"))\n",
    "rate=float(input(\"Enter rate(r) for computing interest : \"))\n",
    "time=float(input(\"Enter number of years(t) for computing interest : \"))\n",
    "n=1\n",
    "finalValue=principal*((1+rate/n)**(n*time))\n",
    "print(\"After \",time,\" years your principal amount \",principal,\" over an interest rate of \",rate,\"% will be : \",round(finalValue,1))"
   ]
  },
  {
   "cell_type": "markdown",
   "metadata": {},
   "source": [
    "Euclidean distance"
   ]
  },
  {
   "cell_type": "code",
   "execution_count": 16,
   "metadata": {},
   "outputs": [
    {
     "name": "stdout",
     "output_type": "stream",
     "text": [
      "Enter o-ordinate for x1 : 2\n",
      "Enter o-ordinate for x2 : 4\n",
      "Enter o-ordinate for y1 : 4\n",
      "Enter o-ordinate for y2 : 4\n",
      "Distance between two points ( 2 , 4 ) and ( 4 , 4 ) is :  2\n"
     ]
    }
   ],
   "source": [
    "x1=int(input(\"Enter o-ordinate for x1 : \"))\n",
    "x2=int(input(\"Enter o-ordinate for x2 : \"))\n",
    "y1=int(input(\"Enter o-ordinate for y1 : \"))\n",
    "y2=int(input(\"Enter o-ordinate for y2 : \"))\n",
    "distance=(((x2-x1)**2)+((y2-y1)**2))**(1/2)\n",
    "print(\"Distance between two points (\",x1,\",\",y1,\") and (\",x2,\",\",y2,\") is : \",round(distance))"
   ]
  },
  {
   "cell_type": "markdown",
   "metadata": {},
   "source": [
    "Feet to Centimetre Converter"
   ]
  },
  {
   "cell_type": "code",
   "execution_count": 17,
   "metadata": {},
   "outputs": [
    {
     "name": "stdout",
     "output_type": "stream",
     "text": [
      "Enter height in Feet(ft) : 5\n",
      "There are  152.4 cm in  5 ft\n"
     ]
    }
   ],
   "source": [
    "ft=int(input(\"Enter height in Feet(ft) : \"))\n",
    "conversion=ft/0.032808\n",
    "print(\"There are \",round(conversion,1),\"cm in \",ft,\"ft\")"
   ]
  },
  {
   "cell_type": "markdown",
   "metadata": {},
   "source": [
    "BMI Calculator"
   ]
  },
  {
   "cell_type": "code",
   "execution_count": 18,
   "metadata": {},
   "outputs": [
    {
     "name": "stdout",
     "output_type": "stream",
     "text": [
      "Enter height in Centimeter(cm) : 180\n",
      "Enter weight in Kilogram(kg) : 75\n",
      "Your BMI is :  23.15\n"
     ]
    }
   ],
   "source": [
    "height=int(input(\"Enter height in Centimeter(cm) : \"))\n",
    "weight=int(input(\"Enter weight in Kilogram(kg) : \"))\n",
    "heightInMeters=height/100\n",
    "BMI=weight/(heightInMeters**2)\n",
    "print(\"Your BMI is : \",round(BMI,2))"
   ]
  },
  {
   "cell_type": "markdown",
   "metadata": {},
   "source": [
    "Sum of n positive Integers"
   ]
  },
  {
   "cell_type": "code",
   "execution_count": 19,
   "metadata": {},
   "outputs": [
    {
     "name": "stdout",
     "output_type": "stream",
     "text": [
      "Enter value of n : 5\n",
      "Sum of n positive integers till  5  is 15\n"
     ]
    }
   ],
   "source": [
    "n=int(input(\"Enter value of n : \"))\n",
    "sumOfNum=0\n",
    "for x in range(1,n+1):\n",
    "    sumOfNum=sumOfNum+x\n",
    "print(\"Sum of n positive integers till \",n,\" is\",sumOfNum)"
   ]
  },
  {
   "cell_type": "markdown",
   "metadata": {},
   "source": [
    "Digits Sum of a number"
   ]
  },
  {
   "cell_type": "code",
   "execution_count": 20,
   "metadata": {},
   "outputs": [
    {
     "name": "stdout",
     "output_type": "stream",
     "text": [
      "Enter a number : 15\n",
      "sum is :  6\n"
     ]
    }
   ],
   "source": [
    "n = str(input(\"Enter a number : \"))\n",
    "sumOfNum=0\n",
    "for x in n:\n",
    "    d = int(x)\n",
    "    sumOfNum=sumOfNum+d\n",
    "print(\"Sum is : \",sumOfNum)\n"
   ]
  },
  {
   "cell_type": "code",
   "execution_count": null,
   "metadata": {},
   "outputs": [],
   "source": []
  }
 ],
 "metadata": {
  "kernelspec": {
   "display_name": "Python 3",
   "language": "python",
   "name": "python3"
  },
  "language_info": {
   "codemirror_mode": {
    "name": "ipython",
    "version": 3
   },
   "file_extension": ".py",
   "mimetype": "text/x-python",
   "name": "python",
   "nbconvert_exporter": "python",
   "pygments_lexer": "ipython3",
   "version": "3.6.4"
  }
 },
 "nbformat": 4,
 "nbformat_minor": 2
}
