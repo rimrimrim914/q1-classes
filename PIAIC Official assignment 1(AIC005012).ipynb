{
 "cells": [
  {
   "cell_type": "code",
   "execution_count": 37,
   "metadata": {},
   "outputs": [],
   "source": [
    "# ID number:AIC005012\n",
    "# center:Sindh Boy Scouts Association\n",
    "# timing:9 to 12\n",
    "# Extremely sorry for the late submission of Assignment"
   ]
  },
  {
   "cell_type": "markdown",
   "metadata": {},
   "source": [
    "# 1. Calculate Area of a Circle"
   ]
  },
  {
   "cell_type": "markdown",
   "metadata": {},
   "source": [
    "#### Write a Python program which accepts the radius of a circle from the user and compute the area.\n",
    "###### Program Console Sample Output 1:\n",
    "###### Input Radius: 0.5\n",
    "###### Area of Circle with radius 0.5 is 0.7853981634"
   ]
  },
  {
   "cell_type": "code",
   "execution_count": 7,
   "metadata": {},
   "outputs": [
    {
     "name": "stdout",
     "output_type": "stream",
     "text": [
      "Enter radius: .5\n",
      "area of a circle 0.5 with 0.7855 \n"
     ]
    }
   ],
   "source": [
    "radius=float(input(\"Enter radius: \"))\n",
    "area=3.142*radius**(2)\n",
    "print(f\"area of a circle {radius} with {area} \")"
   ]
  },
  {
   "cell_type": "code",
   "execution_count": null,
   "metadata": {},
   "outputs": [],
   "source": []
  },
  {
   "cell_type": "code",
   "execution_count": null,
   "metadata": {},
   "outputs": [],
   "source": []
  },
  {
   "cell_type": "markdown",
   "metadata": {},
   "source": [
    "## 2. Check Number either positive, negative or zero"
   ]
  },
  {
   "cell_type": "markdown",
   "metadata": {},
   "source": [
    "#### Write a Python program to check if a number is positive, negative or zero\n",
    "###### Program Console Sample Output 1:\n",
    "###### Enter Number: -1\n",
    "##### Negative Number Entered\n",
    "###### Program Console Sample Output 2:\n",
    "##### Integer: 3\n",
    "##### Positive Number Entered\n",
    "###### Program Console Sample Output 3:\n",
    "##### Integer: 0\n",
    "###### Zero Entered"
   ]
  },
  {
   "cell_type": "code",
   "execution_count": 9,
   "metadata": {},
   "outputs": [
    {
     "name": "stdout",
     "output_type": "stream",
     "text": [
      "input number: 4\n",
      "positive number Enter:  4\n"
     ]
    }
   ],
   "source": [
    "number=int(input(\"input number: \"))\n",
    "if number<0:\n",
    "    print(\"negavtive number Enter: \",number)\n",
    "elif number>0:\n",
    "    print(\"positive number Enter: \",number)\n",
    "else:\n",
    "    print(\"zero number: \",number)"
   ]
  },
  {
   "cell_type": "code",
   "execution_count": 10,
   "metadata": {},
   "outputs": [
    {
     "name": "stdout",
     "output_type": "stream",
     "text": [
      "input number: -9\n",
      "negavtive number Enter:  -9\n"
     ]
    }
   ],
   "source": [
    "number=int(input(\"input number: \"))\n",
    "if number<0:\n",
    "    print(\"negavtive number Enter: \",number)\n",
    "elif number>0:\n",
    "    print(\"positive number Enter: \",number)\n",
    "else:\n",
    "    print(\"zero number: \",number)"
   ]
  },
  {
   "cell_type": "code",
   "execution_count": 11,
   "metadata": {},
   "outputs": [
    {
     "name": "stdout",
     "output_type": "stream",
     "text": [
      "input number: 0\n",
      "zero number:  0\n"
     ]
    }
   ],
   "source": [
    "number=int(input(\"input number: \"))\n",
    "if number<0:\n",
    "    print(\"negavtive number Enter: \",number)\n",
    "elif number>0:\n",
    "    print(\"positive number Enter: \",number)\n",
    "else:\n",
    "    print(\"zero number: \",number)"
   ]
  },
  {
   "cell_type": "code",
   "execution_count": null,
   "metadata": {},
   "outputs": [],
   "source": []
  },
  {
   "cell_type": "markdown",
   "metadata": {},
   "source": [
    "## 3. Divisibility Check of two numbers"
   ]
  },
  {
   "cell_type": "markdown",
   "metadata": {},
   "source": [
    "#### Write a Python program to check whether a number is completely divisible by another number. Accept two integer values form the user\n",
    "##### Program Console Sample Output 1:\n",
    "###### Enter numerator: 4\n",
    "###### Enter Denominator: 2\n",
    "##### Number 4 is Completely divisible by 2\n",
    "###### Program Console Sample Output 2:\n",
    "##### Enter numerator: 7\n",
    "\n",
    "##### Enter Denominator: 4\n",
    "###### Number 7 is not Completely divisible by 4"
   ]
  },
  {
   "cell_type": "code",
   "execution_count": 12,
   "metadata": {},
   "outputs": [
    {
     "name": "stdout",
     "output_type": "stream",
     "text": [
      "enter numarator: 6\n",
      "enter denominator: 3\n",
      "number 6 is completely divisible by 3 \n"
     ]
    }
   ],
   "source": [
    "numarator=int(input(\"enter numarator: \"))\n",
    "denominator=int(input(\"enter denominator: \"))\n",
    "numarator%denominator\n",
    "if numarator%denominator == 0:\n",
    "    print(f\"number {numarator} is completely divisible by {denominator} \")\n",
    "else:\n",
    "    print(f\"number {numarator} is not completely divisible by {denominator} \")"
   ]
  },
  {
   "cell_type": "code",
   "execution_count": null,
   "metadata": {},
   "outputs": [],
   "source": []
  },
  {
   "cell_type": "code",
   "execution_count": null,
   "metadata": {},
   "outputs": [],
   "source": []
  },
  {
   "cell_type": "code",
   "execution_count": null,
   "metadata": {},
   "outputs": [],
   "source": []
  },
  {
   "cell_type": "code",
   "execution_count": null,
   "metadata": {},
   "outputs": [],
   "source": []
  },
  {
   "cell_type": "code",
   "execution_count": null,
   "metadata": {},
   "outputs": [],
   "source": []
  },
  {
   "cell_type": "markdown",
   "metadata": {},
   "source": [
    "## 4. Calculate Volume of a sphere"
   ]
  },
  {
   "cell_type": "markdown",
   "metadata": {},
   "source": [
    "##### Write a Python program to get the volume of a sphere, please take the radius as input from user"
   ]
  },
  {
   "cell_type": "markdown",
   "metadata": {},
   "source": [
    "##### Program Console Output:\n",
    "##### Enter Radius of Sphere: 1\n",
    "###### Volume of the Sphere with Radius 1 is 4.18"
   ]
  },
  {
   "cell_type": "code",
   "execution_count": 14,
   "metadata": {},
   "outputs": [],
   "source": [
    "import math"
   ]
  },
  {
   "cell_type": "code",
   "execution_count": 19,
   "metadata": {},
   "outputs": [
    {
     "name": "stdout",
     "output_type": "stream",
     "text": [
      "enter radius of Sphere: 1\n",
      " volume of sphere with radius 1.0 is 4.189\n"
     ]
    }
   ],
   "source": [
    "radius=float(input(\"enter radius of Sphere: \"))\n",
    "volume=4/3*math.pi*radius**3\n",
    "volume=round(volume,3 )\n",
    "print(f\" volume of sphere with radius {radius} is {volume}\")"
   ]
  },
  {
   "cell_type": "code",
   "execution_count": null,
   "metadata": {},
   "outputs": [],
   "source": []
  },
  {
   "cell_type": "code",
   "execution_count": null,
   "metadata": {},
   "outputs": [],
   "source": []
  },
  {
   "cell_type": "code",
   "execution_count": null,
   "metadata": {},
   "outputs": [],
   "source": []
  },
  {
   "cell_type": "markdown",
   "metadata": {},
   "source": [
    "## 5. Copy string n times\n",
    "#### Write a Python program to get a string which is n (non-negative integer) copies of a given string.\n",
    "##### Program Console Output:\n",
    "##### Enter String: Hi\n",
    "###### How many copies of String you need: 4\n",
    "###### 4 Copies of Hi are HiHiHiHi"
   ]
  },
  {
   "cell_type": "code",
   "execution_count": 21,
   "metadata": {},
   "outputs": [
    {
     "name": "stdout",
     "output_type": "stream",
     "text": [
      "Enter string: Hi\n",
      "how many copies of string u need: 4\n",
      "4 copies of Hi HiHiHiHi \n"
     ]
    }
   ],
   "source": [
    "string=input(\"Enter string: \")\n",
    "quantity=int(input(\"how many copies of string u need: \"))\n",
    "print(f\"{quantity} copies of {string} {string*quantity} \")"
   ]
  },
  {
   "cell_type": "code",
   "execution_count": 22,
   "metadata": {},
   "outputs": [
    {
     "name": "stdout",
     "output_type": "stream",
     "text": [
      "Enter string: Talent,\n",
      "how many copies of string u need: 4\n",
      "4 copies of Talent, Talent,Talent,Talent,Talent, \n"
     ]
    }
   ],
   "source": [
    "string=input(\"Enter string: \")\n",
    "quantity=int(input(\"how many copies of string u need: \"))\n",
    "print(f\"{quantity} copies of {string} {string*quantity} \")"
   ]
  },
  {
   "cell_type": "code",
   "execution_count": null,
   "metadata": {},
   "outputs": [],
   "source": []
  },
  {
   "cell_type": "code",
   "execution_count": null,
   "metadata": {},
   "outputs": [],
   "source": []
  },
  {
   "cell_type": "code",
   "execution_count": null,
   "metadata": {},
   "outputs": [],
   "source": []
  },
  {
   "cell_type": "markdown",
   "metadata": {},
   "source": [
    "## 6. Check if number is Even or Odd\n",
    "### Write a Python program to find whether a given number (accept from the user) is even or odd, print out an appropriate message to the user\n",
    "#### Program Console Output 1:\n",
    "##### Enter Number: 4\n",
    "###### 4 is Even\n",
    "#### Program Console Output 2:\n",
    "##### Enter Number: 9\n",
    "###### 9 is Odd"
   ]
  },
  {
   "cell_type": "code",
   "execution_count": 3,
   "metadata": {},
   "outputs": [
    {
     "name": "stdout",
     "output_type": "stream",
     "text": [
      "Enter number: 4\n",
      "4 is Even\n"
     ]
    }
   ],
   "source": [
    "number=int(input(\"Enter number: \"))\n",
    "if number%2==0:\n",
    "    print(f\"{number} is Even\")\n",
    "else:\n",
    "    print(f\"{number} is odd\")"
   ]
  },
  {
   "cell_type": "code",
   "execution_count": 4,
   "metadata": {},
   "outputs": [
    {
     "name": "stdout",
     "output_type": "stream",
     "text": [
      "Enter number: 9\n",
      "9 is odd\n"
     ]
    }
   ],
   "source": [
    "number=int(input(\"Enter number: \"))\n",
    "if number%2==0:\n",
    "    print(f\"{number} is Even\")\n",
    "else:\n",
    "    print(f\"{number} is odd\")"
   ]
  },
  {
   "cell_type": "code",
   "execution_count": null,
   "metadata": {},
   "outputs": [],
   "source": []
  },
  {
   "cell_type": "code",
   "execution_count": null,
   "metadata": {},
   "outputs": [],
   "source": []
  },
  {
   "cell_type": "code",
   "execution_count": null,
   "metadata": {},
   "outputs": [],
   "source": []
  },
  {
   "cell_type": "markdown",
   "metadata": {},
   "source": [
    "## 7. Vowel Tester\n",
    "### Write a Python program to test whether a passed letter is a vowel or not\n",
    "#### Program Console Output 1:\n",
    "##### Enter a character: A\n",
    "###### Letter A is Vowel\n",
    "#### Program Console Output 2:\n",
    "##### Enter a character: e\n",
    "###### Letter e is Vowel\n",
    "#### Program Console Output 2:\n",
    "##### Enter a character: N\n",
    "###### Letter N is not Vowel"
   ]
  },
  {
   "cell_type": "code",
   "execution_count": 31,
   "metadata": {},
   "outputs": [],
   "source": [
    "vowel = ['a','e','i','o','u']"
   ]
  },
  {
   "cell_type": "code",
   "execution_count": 35,
   "metadata": {},
   "outputs": [
    {
     "name": "stdout",
     "output_type": "stream",
     "text": [
      "Enter a character: a\n",
      "Letter is vowel\n"
     ]
    }
   ],
   "source": [
    "character=str(input(\"Enter a character: \"))\n",
    "if character in vowel:\n",
    "    print(f\"Letter is vowel\")\n",
    "else:\n",
    "    print(f\"Letter is not vowel\")"
   ]
  },
  {
   "cell_type": "code",
   "execution_count": 36,
   "metadata": {},
   "outputs": [
    {
     "name": "stdout",
     "output_type": "stream",
     "text": [
      "Enter a character: q\n",
      "Letter is not vowel\n"
     ]
    }
   ],
   "source": [
    "character=str(input(\"Enter a character: \"))\n",
    "if character in vowel:\n",
    "    print(f\"Letter is vowel\")\n",
    "else:\n",
    "    print(f\"Letter is not vowel\")"
   ]
  },
  {
   "cell_type": "markdown",
   "metadata": {},
   "source": [
    "## 8. Triangle area\n",
    "### Write a Python program that will accept the base and height of a triangle and compute the area\n",
    "###### Reference:\n",
    "https://www.mathgoodies.com/lessons/vol1/area_triangle"
   ]
  },
  {
   "cell_type": "code",
   "execution_count": 6,
   "metadata": {},
   "outputs": [
    {
     "name": "stdout",
     "output_type": "stream",
     "text": [
      "Enter base of triangle: 5\n",
      "Enter height of triangle:5\n",
      "12.5\n"
     ]
    }
   ],
   "source": [
    "base = float(input(\"Enter base of triangle: \"))\n",
    "height = float(input(\"Enter height of triangle: \"))\n",
    "Area = 1/2*height*base\n",
    "print(Area)"
   ]
  },
  {
   "cell_type": "markdown",
   "metadata": {},
   "source": [
    "## 9. Calculate Interest\n",
    "### Write a Python program to compute the future value of a specified principal amount, rate of interest, and a number of years\n",
    "#### Program Console Sample 1:\n",
    "##### Please enter principal amount: 10000\n",
    "###### Please Enter Rate of interest in %: 0.1\n",
    "###### Enter number of years for investment: 5\n",
    "###### After 5 years your principal amount 10000 over an interest rate of 0.1 % will be 16105.1"
   ]
  },
  {
   "cell_type": "code",
   "execution_count": 9,
   "metadata": {},
   "outputs": [
    {
     "name": "stdout",
     "output_type": "stream",
     "text": [
      " Enter the principle amount: 10000\n",
      "Enter rate of interest in %: .1\n",
      "Enter number of years for investment: 5\n",
      "After 5 your principle 10000 over an interest rate 0.1 will be 16105.1 \n"
     ]
    }
   ],
   "source": [
    "Amount=int(input(\" Enter the principle amount: \"))\n",
    "Interest=float(input(\"Enter rate of interest in %: \"))\n",
    "Years=int(input(\"Enter number of years for investment: \"))\n",
    "A= (Amount*((1+Interest)**Years))\n",
    "A= round(A,2)\n",
    "print(f\"After {Years} your principle {Amount} over an interest rate {Interest} will be {A} \")"
   ]
  },
  {
   "cell_type": "code",
   "execution_count": 10,
   "metadata": {},
   "outputs": [
    {
     "name": "stdout",
     "output_type": "stream",
     "text": [
      " Enter the principle amount: 250000\n",
      "Enter rate of interest in %: .2\n",
      "Enter number of years for investment: 3\n",
      "After 3 your principle 250000 over an interest rate 0.2 will be 432000.0 \n"
     ]
    }
   ],
   "source": [
    "Amount=int(input(\" Enter the principle amount: \"))\n",
    "Interest=float(input(\"Enter rate of interest in %: \"))\n",
    "Years=int(input(\"Enter number of years for investment: \"))\n",
    "A= (Amount*((1+Interest)**Years))\n",
    "A= round(A,2)\n",
    "print(f\"After {Years} your principle {Amount} over an interest rate {Interest} will be {A} \")"
   ]
  },
  {
   "cell_type": "code",
   "execution_count": null,
   "metadata": {},
   "outputs": [],
   "source": []
  },
  {
   "cell_type": "code",
   "execution_count": null,
   "metadata": {},
   "outputs": [],
   "source": []
  },
  {
   "cell_type": "code",
   "execution_count": null,
   "metadata": {},
   "outputs": [],
   "source": []
  },
  {
   "cell_type": "code",
   "execution_count": null,
   "metadata": {},
   "outputs": [],
   "source": []
  },
  {
   "cell_type": "markdown",
   "metadata": {},
   "source": [
    "## 10. Euclidean distance\n",
    "### write a Python program to compute the distance between the points (x1, y1) and (x2, y2).\n",
    "#### Program Console Sample 1:\n",
    "###### Enter Co-ordinate for x1: 2\n",
    "###### Enter Co-ordinate for x2: 4\n",
    "###### Enter Co-ordinate for y1: 4\n",
    "###### Enter Co-ordinate for y2: 4\n",
    "###### Distance between points (2, 4) and (4, 4) is 2"
   ]
  },
  {
   "cell_type": "markdown",
   "metadata": {},
   "source": [
    "###### Reference:\n",
    "https://en.wikipedia.org/wiki/Euclidean_distance"
   ]
  },
  {
   "cell_type": "code",
   "execution_count": 13,
   "metadata": {},
   "outputs": [
    {
     "name": "stdout",
     "output_type": "stream",
     "text": [
      "Enter Co-ordinate for X1: 2\n",
      "Enter Co-ordinate for X2: 4\n",
      "Enter Co-ordinate for Y1: 4\n",
      "Enter Co-ordinate for Y2: 4\n",
      "Distance between points (2,4) and (4,4) is 2.0\n"
     ]
    }
   ],
   "source": [
    "X1=int(input(\"Enter Co-ordinate for X1: \"))\n",
    "X2=int(input(\"Enter Co-ordinate for X2: \"))\n",
    "Y1=int(input(\"Enter Co-ordinate for Y1: \"))\n",
    "Y2=int(input(\"Enter Co-ordinate for Y2: \"))\n",
    "import math\n",
    "Distance = (math.sqrt((X1-X2)**2)+((Y1-Y2)**2))\n",
    "print(f\"Distance between points ({X1},{X2}) and ({Y1},{Y2}) is {Distance}\")\n"
   ]
  },
  {
   "cell_type": "code",
   "execution_count": null,
   "metadata": {},
   "outputs": [],
   "source": []
  },
  {
   "cell_type": "code",
   "execution_count": null,
   "metadata": {},
   "outputs": [],
   "source": []
  },
  {
   "cell_type": "code",
   "execution_count": null,
   "metadata": {},
   "outputs": [],
   "source": []
  },
  {
   "cell_type": "markdown",
   "metadata": {},
   "source": [
    "## 11. Feet to Centimeter Converter\n",
    "### Write a Python program to convert height in feet to centimetres.\n",
    "##### Program Console Sample 1:\n",
    "###### Enter Height in Feet: 5\n",
    "###### There are 152.4 Cm in 5 ft\n",
    "###### Reference:\n",
    "https://www.rapidtables.com/convert/length/feet-to-cm.html"
   ]
  },
  {
   "cell_type": "code",
   "execution_count": 17,
   "metadata": {},
   "outputs": [
    {
     "name": "stdout",
     "output_type": "stream",
     "text": [
      "Enter Height in Feet: 5\n",
      "There are 152.4 cm in 5.0 \n"
     ]
    }
   ],
   "source": [
    "feet=float(input(\"Enter Height in Feet: \"))\n",
    "centimeter=30.48\n",
    "conversion_feet_in_centimeter=(feet*centimeter)\n",
    "print(f\"There are {conversion_feet_in_centimeter} cm in {feet} \")"
   ]
  },
  {
   "cell_type": "code",
   "execution_count": null,
   "metadata": {},
   "outputs": [],
   "source": []
  },
  {
   "cell_type": "code",
   "execution_count": null,
   "metadata": {},
   "outputs": [],
   "source": []
  },
  {
   "cell_type": "code",
   "execution_count": null,
   "metadata": {},
   "outputs": [],
   "source": []
  },
  {
   "cell_type": "markdown",
   "metadata": {},
   "source": [
    "## 12. BMI Calculator\n",
    "### Write a Python program to calculate body mass index\n",
    "##### Program Console Sample 1:\n",
    "###### Enter Height in Cm: 180\n",
    "###### Enter Weight in Kg: 75\n",
    "###### Your BMI is 23.15"
   ]
  },
  {
   "cell_type": "code",
   "execution_count": 22,
   "metadata": {},
   "outputs": [
    {
     "name": "stdout",
     "output_type": "stream",
     "text": [
      "Enter Height in Cm: 180\n",
      "Enter Weight in Kg: 75\n",
      "your BMI is 23.15 \n"
     ]
    }
   ],
   "source": [
    "Cm=int(input(\"Enter Height in Cm: \"))\n",
    "Kg=int(input(\"Enter Weight in Kg: \"))\n",
    "BMI= Kg/(Cm/100)**2\n",
    "BMI= round(BMI,2)\n",
    "print(f\"your BMI is {BMI} \")"
   ]
  },
  {
   "cell_type": "code",
   "execution_count": null,
   "metadata": {},
   "outputs": [],
   "source": []
  },
  {
   "cell_type": "code",
   "execution_count": null,
   "metadata": {},
   "outputs": [],
   "source": []
  },
  {
   "cell_type": "markdown",
   "metadata": {},
   "source": [
    "## 13. Sum of n Positive Integers\n",
    "### Write a python program to sum of the first n positive integers\n",
    "#### Program Console Sample 1:\n",
    "###### Enter value of n: 5\n",
    "###### Sum of n Positive integers till 5 is 15"
   ]
  },
  {
   "cell_type": "code",
   "execution_count": 23,
   "metadata": {},
   "outputs": [
    {
     "name": "stdout",
     "output_type": "stream",
     "text": [
      "Enter value of n: 5\n",
      "Sum of n positive integers till 5 is 15 \n"
     ]
    }
   ],
   "source": [
    "n=int(input(\"Enter value of n: \"))\n",
    "sum = 0\n",
    "for value in range(1, n+1):\n",
    "    sum=sum + value\n",
    "print(f\"Sum of n positive integers till {n} is {sum} \")\n"
   ]
  },
  {
   "cell_type": "code",
   "execution_count": null,
   "metadata": {},
   "outputs": [],
   "source": []
  },
  {
   "cell_type": "code",
   "execution_count": null,
   "metadata": {},
   "outputs": [],
   "source": []
  },
  {
   "cell_type": "markdown",
   "metadata": {},
   "source": [
    "## 14. Digits Sum of a Number\n",
    "### Write a Python program to calculate the sum of the digits in an integer\n",
    "#### Program Console Sample 1:\n",
    "##### Enter a number: 15\n",
    "###### Sum of 1 + 5 is 6\n",
    "#### Program Console Sample 2:\n",
    "##### Enter a number: 1234\n",
    "###### Sum of 1 + 2 + 3 + 4 is 10"
   ]
  },
  {
   "cell_type": "code",
   "execution_count": 34,
   "metadata": {},
   "outputs": [
    {
     "name": "stdout",
     "output_type": "stream",
     "text": [
      "Enter a Number: 1234\n",
      "Sum of 1+2+3+4 is 10 \n"
     ]
    }
   ],
   "source": [
    "number = int(input(\"Enter a Number: \"))\n",
    "n = number\n",
    "sum = 0\n",
    "numbers = []\n",
    "\n",
    "while number > 0:\n",
    "    remainder = number % 10\n",
    "    numbers.append(remainder)\n",
    "    sum=sum+remainder\n",
    "    number=number//10\n",
    "    \n",
    "print(f\"Sum of \",end=\"\")\n",
    "\n",
    "for i in range(len(numbers) -1,-1,-1):\n",
    "    if i==0:\n",
    "        print(f\"{numbers[i]}\", end=\"\")\n",
    "    else:\n",
    "        print(f\"{numbers[i]}+\", end=\"\")\n",
    "        \n",
    "print(f\" is {sum} \")\n",
    "        "
   ]
  },
  {
   "cell_type": "code",
   "execution_count": 35,
   "metadata": {},
   "outputs": [
    {
     "name": "stdout",
     "output_type": "stream",
     "text": [
      "Enter a Number: 89654567\n",
      "Sum of 8+9+6+5+4+5+6+7 is 50 \n"
     ]
    }
   ],
   "source": [
    "number = int(input(\"Enter a Number: \"))\n",
    "n = number\n",
    "sum = 0\n",
    "numbers = []\n",
    "\n",
    "while number > 0:\n",
    "    remainder = number % 10\n",
    "    numbers.append(remainder)\n",
    "    sum=sum+remainder\n",
    "    number=number//10\n",
    "    \n",
    "print(f\"Sum of \",end=\"\")\n",
    "\n",
    "for i in range(len(numbers) -1,-1,-1):\n",
    "    if i==0:\n",
    "        print(f\"{numbers[i]}\", end=\"\")\n",
    "    else:\n",
    "        print(f\"{numbers[i]}+\", end=\"\")\n",
    "        \n",
    "print(f\" is {sum} \")"
   ]
  },
  {
   "cell_type": "code",
   "execution_count": null,
   "metadata": {},
   "outputs": [],
   "source": []
  },
  {
   "cell_type": "code",
   "execution_count": null,
   "metadata": {},
   "outputs": [],
   "source": []
  },
  {
   "cell_type": "code",
   "execution_count": null,
   "metadata": {},
   "outputs": [],
   "source": []
  },
  {
   "cell_type": "code",
   "execution_count": null,
   "metadata": {},
   "outputs": [],
   "source": []
  },
  {
   "cell_type": "code",
   "execution_count": null,
   "metadata": {},
   "outputs": [],
   "source": []
  },
  {
   "cell_type": "code",
   "execution_count": null,
   "metadata": {},
   "outputs": [],
   "source": []
  }
 ],
 "metadata": {
  "kernelspec": {
   "display_name": "Python 3",
   "language": "python",
   "name": "python3"
  },
  "language_info": {
   "codemirror_mode": {
    "name": "ipython",
    "version": 3
   },
   "file_extension": ".py",
   "mimetype": "text/x-python",
   "name": "python",
   "nbconvert_exporter": "python",
   "pygments_lexer": "ipython3",
   "version": "3.7.3"
  }
 },
 "nbformat": 4,
 "nbformat_minor": 2
}
